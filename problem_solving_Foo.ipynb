{
 "cells": [
  {
   "cell_type": "markdown",
   "id": "859f4de7",
   "metadata": {},
   "source": [
    "## Challenge Title: Sales Analysis"
   ]
  },
  {
   "cell_type": "code",
   "execution_count": 1,
   "id": "6c6b75a1",
   "metadata": {
    "ExecuteTime": {
     "end_time": "2024-01-24T13:33:51.420142Z",
     "start_time": "2024-01-24T13:33:51.410607700Z"
    }
   },
   "outputs": [],
   "source": [
    "import pandas as pd\n",
    "import matplotlib.pyplot as plt\n",
    "import seaborn as sns\n",
    "\n",
    "import warnings\n",
    "warnings.filterwarnings('ignore')"
   ]
  },
  {
   "cell_type": "markdown",
   "id": "3156335d",
   "metadata": {},
   "source": [
    "#### i. Data Preparation and Exploration:"
   ]
  },
  {
   "cell_type": "code",
   "execution_count": 2,
   "id": "782895bc",
   "metadata": {
    "ExecuteTime": {
     "end_time": "2024-01-24T13:33:51.467447100Z",
     "start_time": "2024-01-24T13:33:51.418143Z"
    }
   },
   "outputs": [
    {
     "data": {
      "text/plain": "    Invoice ID Branch       City Customer type  Gender  \\\n0  750-67-8428      A     Yangon        Member  Female   \n1  226-31-3081      C  Naypyitaw        Normal  Female   \n2  631-41-3108      A     Yangon        Normal    Male   \n3  123-19-1176      A     Yangon        Member    Male   \n4  373-73-7910      A     Yangon        Normal    Male   \n\n             Product line  Unit price  Quantity   Tax 5%     Total       Date  \\\n0       Health and beauty       74.69         7  26.1415  548.9715   1/5/2019   \n1  Electronic accessories       15.28         5   3.8200   80.2200   3/8/2019   \n2      Home and lifestyle       46.33         7  16.2155  340.5255   3/3/2019   \n3       Health and beauty       58.22         8  23.2880  489.0480  1/27/2019   \n4       Sports and travel       86.31         7  30.2085  634.3785   2/8/2019   \n\n    Time      Payment    cogs  gross margin percentage  gross income  Rating  \n0  13:08      Ewallet  522.83                 4.761905       26.1415     9.1  \n1  10:29         Cash   76.40                 4.761905        3.8200     9.6  \n2  13:23  Credit card  324.31                 4.761905       16.2155     7.4  \n3  20:33      Ewallet  465.76                 4.761905       23.2880     8.4  \n4  10:37      Ewallet  604.17                 4.761905       30.2085     5.3  ",
      "text/html": "<div>\n<style scoped>\n    .dataframe tbody tr th:only-of-type {\n        vertical-align: middle;\n    }\n\n    .dataframe tbody tr th {\n        vertical-align: top;\n    }\n\n    .dataframe thead th {\n        text-align: right;\n    }\n</style>\n<table border=\"1\" class=\"dataframe\">\n  <thead>\n    <tr style=\"text-align: right;\">\n      <th></th>\n      <th>Invoice ID</th>\n      <th>Branch</th>\n      <th>City</th>\n      <th>Customer type</th>\n      <th>Gender</th>\n      <th>Product line</th>\n      <th>Unit price</th>\n      <th>Quantity</th>\n      <th>Tax 5%</th>\n      <th>Total</th>\n      <th>Date</th>\n      <th>Time</th>\n      <th>Payment</th>\n      <th>cogs</th>\n      <th>gross margin percentage</th>\n      <th>gross income</th>\n      <th>Rating</th>\n    </tr>\n  </thead>\n  <tbody>\n    <tr>\n      <th>0</th>\n      <td>750-67-8428</td>\n      <td>A</td>\n      <td>Yangon</td>\n      <td>Member</td>\n      <td>Female</td>\n      <td>Health and beauty</td>\n      <td>74.69</td>\n      <td>7</td>\n      <td>26.1415</td>\n      <td>548.9715</td>\n      <td>1/5/2019</td>\n      <td>13:08</td>\n      <td>Ewallet</td>\n      <td>522.83</td>\n      <td>4.761905</td>\n      <td>26.1415</td>\n      <td>9.1</td>\n    </tr>\n    <tr>\n      <th>1</th>\n      <td>226-31-3081</td>\n      <td>C</td>\n      <td>Naypyitaw</td>\n      <td>Normal</td>\n      <td>Female</td>\n      <td>Electronic accessories</td>\n      <td>15.28</td>\n      <td>5</td>\n      <td>3.8200</td>\n      <td>80.2200</td>\n      <td>3/8/2019</td>\n      <td>10:29</td>\n      <td>Cash</td>\n      <td>76.40</td>\n      <td>4.761905</td>\n      <td>3.8200</td>\n      <td>9.6</td>\n    </tr>\n    <tr>\n      <th>2</th>\n      <td>631-41-3108</td>\n      <td>A</td>\n      <td>Yangon</td>\n      <td>Normal</td>\n      <td>Male</td>\n      <td>Home and lifestyle</td>\n      <td>46.33</td>\n      <td>7</td>\n      <td>16.2155</td>\n      <td>340.5255</td>\n      <td>3/3/2019</td>\n      <td>13:23</td>\n      <td>Credit card</td>\n      <td>324.31</td>\n      <td>4.761905</td>\n      <td>16.2155</td>\n      <td>7.4</td>\n    </tr>\n    <tr>\n      <th>3</th>\n      <td>123-19-1176</td>\n      <td>A</td>\n      <td>Yangon</td>\n      <td>Member</td>\n      <td>Male</td>\n      <td>Health and beauty</td>\n      <td>58.22</td>\n      <td>8</td>\n      <td>23.2880</td>\n      <td>489.0480</td>\n      <td>1/27/2019</td>\n      <td>20:33</td>\n      <td>Ewallet</td>\n      <td>465.76</td>\n      <td>4.761905</td>\n      <td>23.2880</td>\n      <td>8.4</td>\n    </tr>\n    <tr>\n      <th>4</th>\n      <td>373-73-7910</td>\n      <td>A</td>\n      <td>Yangon</td>\n      <td>Normal</td>\n      <td>Male</td>\n      <td>Sports and travel</td>\n      <td>86.31</td>\n      <td>7</td>\n      <td>30.2085</td>\n      <td>634.3785</td>\n      <td>2/8/2019</td>\n      <td>10:37</td>\n      <td>Ewallet</td>\n      <td>604.17</td>\n      <td>4.761905</td>\n      <td>30.2085</td>\n      <td>5.3</td>\n    </tr>\n  </tbody>\n</table>\n</div>"
     },
     "execution_count": 2,
     "metadata": {},
     "output_type": "execute_result"
    }
   ],
   "source": [
    "df = pd.read_csv(\"sales_data.csv\")\n",
    "df.head()"
   ]
  },
  {
   "cell_type": "code",
   "execution_count": 3,
   "id": "f3d6fca0",
   "metadata": {
    "ExecuteTime": {
     "end_time": "2024-01-24T13:33:51.481960Z",
     "start_time": "2024-01-24T13:33:51.453617600Z"
    }
   },
   "outputs": [
    {
     "data": {
      "text/plain": "Invoice ID                 0\nBranch                     0\nCity                       0\nCustomer type              0\nGender                     0\nProduct line               0\nUnit price                 0\nQuantity                   0\nTax 5%                     0\nTotal                      0\nDate                       0\nTime                       0\nPayment                    0\ncogs                       0\ngross margin percentage    0\ngross income               0\nRating                     0\ndtype: int64"
     },
     "execution_count": 3,
     "metadata": {},
     "output_type": "execute_result"
    }
   ],
   "source": [
    "df.isnull().sum()"
   ]
  },
  {
   "cell_type": "markdown",
   "id": "d6ef5650",
   "metadata": {},
   "source": [
    "#### ii. Data Analysis:"
   ]
  },
  {
   "cell_type": "code",
   "execution_count": 15,
   "id": "6da0775d",
   "metadata": {
    "ExecuteTime": {
     "end_time": "2024-01-24T13:34:21.706891400Z",
     "start_time": "2024-01-24T13:34:21.668191400Z"
    }
   },
   "outputs": [
    {
     "data": {
      "text/plain": "                        Unit price  Quantity\nProduct line                                \nElectronic accessories   53.551588  5.711765\nFashion accessories      57.153652  5.067416\nFood and beverages       56.008851  5.471264\nHealth and beauty        54.854474  5.618421\nHome and lifestyle       55.316937  5.693750\nSports and travel        56.993253  5.542169",
      "text/html": "<div>\n<style scoped>\n    .dataframe tbody tr th:only-of-type {\n        vertical-align: middle;\n    }\n\n    .dataframe tbody tr th {\n        vertical-align: top;\n    }\n\n    .dataframe thead th {\n        text-align: right;\n    }\n</style>\n<table border=\"1\" class=\"dataframe\">\n  <thead>\n    <tr style=\"text-align: right;\">\n      <th></th>\n      <th>Unit price</th>\n      <th>Quantity</th>\n    </tr>\n    <tr>\n      <th>Product line</th>\n      <th></th>\n      <th></th>\n    </tr>\n  </thead>\n  <tbody>\n    <tr>\n      <th>Electronic accessories</th>\n      <td>53.551588</td>\n      <td>5.711765</td>\n    </tr>\n    <tr>\n      <th>Fashion accessories</th>\n      <td>57.153652</td>\n      <td>5.067416</td>\n    </tr>\n    <tr>\n      <th>Food and beverages</th>\n      <td>56.008851</td>\n      <td>5.471264</td>\n    </tr>\n    <tr>\n      <th>Health and beauty</th>\n      <td>54.854474</td>\n      <td>5.618421</td>\n    </tr>\n    <tr>\n      <th>Home and lifestyle</th>\n      <td>55.316937</td>\n      <td>5.693750</td>\n    </tr>\n    <tr>\n      <th>Sports and travel</th>\n      <td>56.993253</td>\n      <td>5.542169</td>\n    </tr>\n  </tbody>\n</table>\n</div>"
     },
     "execution_count": 15,
     "metadata": {},
     "output_type": "execute_result"
    }
   ],
   "source": [
    "mean = df.groupby('Product line')[['Unit price', 'Quantity']].mean()\n",
    "mean "
   ]
  },
  {
   "cell_type": "code",
   "execution_count": 16,
   "id": "7fdb74d6",
   "metadata": {
    "ExecuteTime": {
     "end_time": "2024-01-24T13:34:28.066535Z",
     "start_time": "2024-01-24T13:34:28.024613500Z"
    }
   },
   "outputs": [
    {
     "data": {
      "text/plain": "'Fashion accessories'"
     },
     "execution_count": 16,
     "metadata": {},
     "output_type": "execute_result"
    }
   ],
   "source": [
    "mean['Unit price'].idxmax()"
   ]
  },
  {
   "cell_type": "markdown",
   "id": "c8f5008d",
   "metadata": {},
   "source": [
    "#### iii. Sales Insights: "
   ]
  },
  {
   "cell_type": "code",
   "execution_count": 6,
   "id": "7fb17c71",
   "metadata": {
    "ExecuteTime": {
     "end_time": "2024-01-24T13:33:51.556981Z",
     "start_time": "2024-01-24T13:33:51.488499700Z"
    }
   },
   "outputs": [
    {
     "data": {
      "text/plain": "Branch\nA    106200.3705\nB    106197.6720\nC    110568.7065\nName: Total, dtype: float64"
     },
     "execution_count": 6,
     "metadata": {},
     "output_type": "execute_result"
    }
   ],
   "source": [
    "revenueByBranch = df.groupby('Branch')['Total'].sum()\n",
    "revenueByBranch"
   ]
  },
  {
   "cell_type": "code",
   "execution_count": 7,
   "id": "8977406a",
   "metadata": {
    "ExecuteTime": {
     "end_time": "2024-01-24T13:33:51.557980900Z",
     "start_time": "2024-01-24T13:33:51.497535700Z"
    }
   },
   "outputs": [
    {
     "data": {
      "text/plain": "'C'"
     },
     "execution_count": 7,
     "metadata": {},
     "output_type": "execute_result"
    }
   ],
   "source": [
    "topRevenueBranch = revenueByBranch.idxmax()\n",
    "topRevenueBranch"
   ]
  },
  {
   "cell_type": "markdown",
   "id": "e26f2286",
   "metadata": {},
   "source": [
    "#### iv. Customer Insights:"
   ]
  },
  {
   "cell_type": "code",
   "execution_count": 8,
   "id": "449aadd8",
   "metadata": {
    "scrolled": true,
    "ExecuteTime": {
     "end_time": "2024-01-24T13:33:51.602663700Z",
     "start_time": "2024-01-24T13:33:51.508592400Z"
    }
   },
   "outputs": [
    {
     "data": {
      "text/plain": "Customer type\nMember    501\nNormal    499\nName: count, dtype: int64"
     },
     "execution_count": 8,
     "metadata": {},
     "output_type": "execute_result"
    }
   ],
   "source": [
    "countCustomerType = df['Customer type'].value_counts()\n",
    "countCustomerType"
   ]
  },
  {
   "cell_type": "code",
   "execution_count": 9,
   "id": "0df4be00",
   "metadata": {
    "ExecuteTime": {
     "end_time": "2024-01-24T13:33:51.604169100Z",
     "start_time": "2024-01-24T13:33:51.520602800Z"
    }
   },
   "outputs": [
    {
     "data": {
      "text/plain": "'Male'"
     },
     "execution_count": 9,
     "metadata": {},
     "output_type": "execute_result"
    }
   ],
   "source": [
    "genderMeanRating = df.groupby('Gender')['Rating'].mean()\n",
    "\n",
    "genderHighRating = genderMeanRating.idxmax()\n",
    "genderHighRating"
   ]
  },
  {
   "cell_type": "markdown",
   "id": "dfd91ed5",
   "metadata": {},
   "source": [
    "#### v. Visualisation: "
   ]
  },
  {
   "cell_type": "code",
   "execution_count": 10,
   "id": "b98d9eac",
   "metadata": {
    "ExecuteTime": {
     "end_time": "2024-01-24T13:33:52.197505300Z",
     "start_time": "2024-01-24T13:33:51.531134Z"
    }
   },
   "outputs": [
    {
     "data": {
      "text/plain": "<Figure size 1200x800 with 1 Axes>",
      "image/png": "[encoded data removed]"
     },
     "metadata": {},
     "output_type": "display_data"
    }
   ],
   "source": [
    "plt.figure(figsize=(12, 8))\n",
    "sns.countplot(x='City', data=df)\n",
    "plt.title('Total number of transactions per City')\n",
    "plt.xlabel('City')\n",
    "plt.ylabel('Transaction Count')\n",
    "plt.show()"
   ]
  },
  {
   "cell_type": "code",
   "execution_count": 11,
   "id": "f607a7a1",
   "metadata": {
    "scrolled": false,
    "ExecuteTime": {
     "end_time": "2024-01-24T13:33:52.356124500Z",
     "start_time": "2024-01-24T13:33:52.201508500Z"
    }
   },
   "outputs": [
    {
     "data": {
      "text/plain": "<Figure size 1200x800 with 1 Axes>",
      "image/png": "[encoded data removed]"
     },
     "metadata": {},
     "output_type": "display_data"
    }
   ],
   "source": [
    "plt.figure(figsize=(12, 8))\n",
    "totalSalesPaymentMethod = df.groupby('Payment')['Total'].sum()\n",
    "plt.pie(totalSalesPaymentMethod, labels=totalSalesPaymentMethod.index, autopct='%1.2f%%')\n",
    "plt.title('Total Sales by Payment Method')\n",
    "plt.show()"
   ]
  },
  {
   "cell_type": "markdown",
   "id": "e92db666",
   "metadata": {},
   "source": [
    "#### Date-Time Analysis:"
   ]
  },
  {
   "cell_type": "code",
   "execution_count": 12,
   "id": "9242fe77",
   "metadata": {
    "ExecuteTime": {
     "end_time": "2024-01-24T13:33:52.357123800Z",
     "start_time": "2024-01-24T13:33:52.315819100Z"
    }
   },
   "outputs": [
    {
     "data": {
      "text/plain": "0       1/5/2019\n1       3/8/2019\n2       3/3/2019\n3      1/27/2019\n4       2/8/2019\n         ...    \n995    1/29/2019\n996     3/2/2019\n997     2/9/2019\n998    2/22/2019\n999    2/18/2019\nName: Date, Length: 1000, dtype: object"
     },
     "execution_count": 12,
     "metadata": {},
     "output_type": "execute_result"
    }
   ],
   "source": [
    "df['Date']"
   ]
  },
  {
   "cell_type": "code",
   "execution_count": 13,
   "id": "c635248f",
   "metadata": {
    "scrolled": false,
    "ExecuteTime": {
     "end_time": "2024-01-24T13:33:52.358124700Z",
     "start_time": "2024-01-24T13:33:52.324337200Z"
    }
   },
   "outputs": [
    {
     "data": {
      "text/plain": "0     2019-01-05\n1     2019-03-08\n2     2019-03-03\n3     2019-01-27\n4     2019-02-08\n         ...    \n995   2019-01-29\n996   2019-03-02\n997   2019-02-09\n998   2019-02-22\n999   2019-02-18\nName: Date, Length: 1000, dtype: datetime64[ns]"
     },
     "execution_count": 13,
     "metadata": {},
     "output_type": "execute_result"
    }
   ],
   "source": [
    "df['Date'] = pd.to_datetime(df['Date'])\n",
    "df['Date']"
   ]
  },
  {
   "cell_type": "code",
   "execution_count": 14,
   "id": "cee10c73",
   "metadata": {
    "scrolled": true,
    "ExecuteTime": {
     "end_time": "2024-01-24T13:33:52.361114800Z",
     "start_time": "2024-01-24T13:33:52.339374100Z"
    }
   },
   "outputs": [
    {
     "data": {
      "text/plain": "1"
     },
     "execution_count": 14,
     "metadata": {},
     "output_type": "execute_result"
    }
   ],
   "source": [
    "df['Month'] = df['Date'].dt.month\n",
    "salesTop1Month = df['Month'].value_counts().idxmax()\n",
    "salesTop1Month"
   ]
  },
  {
   "cell_type": "markdown",
   "id": "332c4064",
   "metadata": {},
   "source": [
    "---"
   ]
  },
  {
   "cell_type": "markdown",
   "id": "3258af50",
   "metadata": {},
   "source": [
    "THE END"
   ]
  },
  {
   "cell_type": "code",
   "outputs": [],
   "source": [],
   "metadata": {
    "collapsed": false
   },
   "id": "c10c348e1c40a1b3"
  }
 ],
 "metadata": {
  "kernelspec": {
   "display_name": "Python 3 (ipykernel)",
   "language": "python",
   "name": "python3"
  },
  "language_info": {
   "codemirror_mode": {
    "name": "ipython",
    "version": 3
   },
   "file_extension": ".py",
   "mimetype": "text/x-python",
   "name": "python",
   "nbconvert_exporter": "python",
   "pygments_lexer": "ipython3",
   "version": "3.11.5"
  }
 },
 "nbformat": 4,
 "nbformat_minor": 5
}
